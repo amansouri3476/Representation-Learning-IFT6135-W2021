{
  "nbformat": 4,
  "nbformat_minor": 0,
  "metadata": {
    "colab": {
      "name": "main.ipynb",
      "provenance": [],
      "collapsed_sections": [
        "dt3NTvpsy4Oc"
      ],
      "toc_visible": true
    },
    "kernelspec": {
      "display_name": "Python 3",
      "language": "python",
      "name": "python3"
    },
    "language_info": {
      "codemirror_mode": {
        "name": "ipython",
        "version": 3
      },
      "file_extension": ".py",
      "mimetype": "text/x-python",
      "name": "python",
      "nbconvert_exporter": "python",
      "pygments_lexer": "ipython3",
      "version": "3.7.6"
    },
    "pycharm": {
      "stem_cell": {
        "cell_type": "raw",
        "source": [],
        "metadata": {
          "collapsed": false
        }
      }
    }
  },
  "cells": [
    {
      "cell_type": "markdown",
      "metadata": {
        "id": "uTv0D26B9W2h"
      },
      "source": [
        "# Assignment 1"
      ]
    },
    {
      "cell_type": "markdown",
      "metadata": {
        "id": "O9VX-OHxC1FM"
      },
      "source": [
        "## Initialization"
      ]
    },
    {
      "cell_type": "code",
      "metadata": {
        "id": "qFHMMDtSwuW4",
        "colab": {
          "base_uri": "https://localhost:8080/"
        },
        "cellView": "form",
        "outputId": "2e502916-d258-4509-f788-006f6c5e48c5"
      },
      "source": [
        "#@title Mount your Google Drive\n",
        "%matplotlib inline\n",
        "%load_ext autoreload\n",
        "%autoreload 2\n",
        "\n",
        "from google.colab import drive\n",
        "drive.mount('/content/gdrive')"
      ],
      "execution_count": null,
      "outputs": [
        {
          "output_type": "stream",
          "text": [
            "Mounted at /content/gdrive\n"
          ],
          "name": "stdout"
        }
      ]
    },
    {
      "cell_type": "code",
      "metadata": {
        "id": "oODLwt1QzgGa",
        "colab": {
          "base_uri": "https://localhost:8080/"
        },
        "cellView": "form",
        "outputId": "0de18d7f-b25c-4f92-c7c7-20d8de5f70d3"
      },
      "source": [
        "#@title Link your assignment folder & install requirements\n",
        "#@markdown Enter the path to the assignment folder in your Google Drive\n",
        "import sys\n",
        "import os\n",
        "import shutil\n",
        "import warnings\n",
        "\n",
        "folder = \"content/assignment\" #@param {type:\"string\"}\n",
        "!ln -Ts $folder /content/assignment 2> /dev/null\n",
        "\n",
        "# Add the assignment folder to Python path\n",
        "if '/content/assignment' not in sys.path:\n",
        "  sys.path.insert(0, '/content/assignment')\n",
        "\n",
        "# Install requirements\n",
        "!pip install -qr /content/assignment/requirements.txt\n",
        "\n",
        "# Check if CUDA is available\n",
        "import torch\n",
        "if not torch.cuda.is_available():\n",
        "  warnings.warn('CUDA is not available.')"
      ],
      "execution_count": null,
      "outputs": [
        {
          "output_type": "stream",
          "text": [
            "\u001b[K     |████████████████████████████████| 776.8MB 22kB/s \n",
            "\u001b[K     |████████████████████████████████| 11.8MB 22.5MB/s \n",
            "\u001b[?25h  Building wheel for wget (setup.py) ... \u001b[?25l\u001b[?25hdone\n"
          ],
          "name": "stdout"
        },
        {
          "output_type": "stream",
          "text": [
            "/usr/local/lib/python3.7/dist-packages/ipykernel_launcher.py:21: UserWarning: CUDA is not available.\n"
          ],
          "name": "stderr"
        }
      ]
    },
    {
      "cell_type": "markdown",
      "metadata": {
        "collapsed": false,
        "id": "dt3NTvpsy4Oc"
      },
      "source": [
        "## Running on GPU\n",
        "In Google Colab, you can run your code on GPU. This will be particularly important in CNN part of the assignment. To make sure the notebook is running on GPU, you can change the notebook settings with\n",
        "* (EN) `Edit > Notebook Settings`\n",
        "* (FR) `Modifier > Paramètres du notebook`\n",
        "\n",
        "Be mindful not to use the GPU if your code does not need to run on GPU.\n",
        "\n",
        "Of course, your code written in NumPy (e.g. your `solution.py`) cannot be ran on GPU, only your code written in PyTorch can."
      ]
    },
    {
      "cell_type": "markdown",
      "metadata": {
        "id": "a2SPOy6yCU_S"
      },
      "source": [
        "## Data utilities (do not modify)"
      ]
    },
    {
      "cell_type": "code",
      "metadata": {
        "id": "xC-KePrx_J0L",
        "colab": {
          "base_uri": "https://localhost:8080/"
        },
        "outputId": "a730f4c5-9023-4594-bea6-9cfa7f5212ab"
      },
      "source": [
        "from solution import load_cifar10\n",
        "data = load_cifar10('/tmp/data', flatten=True)  # can use flatten=False to get the image shape.\n",
        "train_data, valid_data, test_data = data\n",
        "image, label = train_data[0][0], train_data[1][0]\n",
        "image.shape"
      ],
      "execution_count": null,
      "outputs": [
        {
          "output_type": "stream",
          "text": [
            "Files already downloaded and verified\n",
            "Files already downloaded and verified\n"
          ],
          "name": "stdout"
        },
        {
          "output_type": "execute_result",
          "data": {
            "text/plain": [
              "(3072,)"
            ]
          },
          "metadata": {
            "tags": []
          },
          "execution_count": 31
        }
      ]
    },
    {
      "cell_type": "code",
      "metadata": {
        "id": "SBV2sLsnGcyO"
      },
      "source": [
        "def load_cifar10(root, flatten=False):\r\n",
        "    \"\"\"\r\n",
        "    Usage example:\r\n",
        "    > train_data, valid_data, test_data = load_cifar10(\"/data\", flatten=True)\r\n",
        "    > train_x, train_y = train_data\r\n",
        "    where both train_x and train_y are numpy arrays\r\n",
        "    train_x.shape == (40000, 3072) or train_x.shape == (40000, 3, 32, 32)\r\n",
        "    train_y.shape == (40000, 10), one-hot format\r\n",
        "    :param root: path where the cifar10 dataset will be downloaded, e.g. \"/tmp/data/\"\r\n",
        "    :param flatten: When True, dataset is reshaped to (num_examples, 3072), otherwise shape is (num_examples, 3, 32, 32)\r\n",
        "    :return: train, valid and test set in numpy arrays\r\n",
        "    \"\"\"\r\n",
        "    transform = torchvision.transforms.ToTensor()\r\n",
        "\r\n",
        "    train_dataset = torchvision.datasets.CIFAR10(root, train=True, transform=transform, download=True)\r\n",
        "    test_dataset = torchvision.datasets.CIFAR10(root, train=False, transform=transform, download=True)\r\n",
        "\r\n",
        "    # randomly split train into train/valid\r\n",
        "    perm = np.random.RandomState(seed=1).permutation(\r\n",
        "        range(len(train_dataset)))  # fix seed to have same split every time.\r\n",
        "    x = [train_dataset[i][0] for i in perm]  # train_dataset.data[perm]\r\n",
        "    y = [one_hot(train_dataset[i][1]) for i in perm]\r\n",
        "    train_x, train_y = x[:40000], y[:40000]\r\n",
        "    valid_x, valid_y = x[40000:], y[40000:]\r\n",
        "    test_x = [test_dataset[i][0] for i in range(len(test_dataset))]\r\n",
        "    test_y = [one_hot(test_dataset[i][1]) for i in range(len(test_dataset))]\r\n",
        "\r\n",
        "    # convert to numpy arrays after stacking\r\n",
        "    train_x = torch.stack(train_x).cpu().numpy()\r\n",
        "    train_y = np.stack(train_y)\r\n",
        "    valid_x = torch.stack(valid_x).cpu().numpy()\r\n",
        "    valid_y = np.stack(valid_y)\r\n",
        "    test_x = torch.stack(test_x).cpu().numpy()\r\n",
        "    test_y = np.stack(test_y)\r\n",
        "\r\n",
        "    if flatten:\r\n",
        "        train_x = train_x.reshape(-1, 32 * 32 * 3)\r\n",
        "        valid_x = valid_x.reshape(-1, 32 * 32 * 3)\r\n",
        "        test_x = test_x.reshape(-1, 32 * 32 * 3)\r\n",
        "\r\n",
        "    # Package everything\r\n",
        "    train_data = train_x, train_y\r\n",
        "    valid_data = valid_x, valid_y\r\n",
        "    test_data = test_x, test_y\r\n",
        "\r\n",
        "    return train_data, valid_data, test_data\r\n"
      ],
      "execution_count": null,
      "outputs": []
    },
    {
      "cell_type": "markdown",
      "metadata": {
        "id": "hZqQ4QbYy4On"
      },
      "source": [
        "## Load the `NN` class from your `solution.py`."
      ]
    },
    {
      "cell_type": "code",
      "metadata": {
        "id": "CX-48u0QNVVm"
      },
      "source": [
        "import numpy as np\r\n",
        "import torch\r\n",
        "import torchvision"
      ],
      "execution_count": null,
      "outputs": []
    },
    {
      "cell_type": "code",
      "metadata": {
        "id": "DYVpHngKeIpR"
      },
      "source": [
        "import numpy as np\r\n",
        "import torch\r\n",
        "import torchvision\r\n",
        "\r\n",
        "\r\n",
        "def one_hot(y, n_classes=10):\r\n",
        "    return np.eye(n_classes)[y]\r\n",
        "\r\n",
        "\r\n",
        "def load_cifar10(root, flatten=False):\r\n",
        "    \"\"\"\r\n",
        "    Usage example:\r\n",
        "    > train_data, valid_data, test_data = load_cifar10(\"/data\", flatten=True)\r\n",
        "    > train_x, train_y = train_data\r\n",
        "    where both train_x and train_y are numpy arrays\r\n",
        "    train_x.shape == (40000, 3072) or train_x.shape == (40000, 3, 32, 32)\r\n",
        "    train_y.shape == (40000, 10), one-hot format\r\n",
        "    :param root: path where the cifar10 dataset will be downloaded, e.g. \"/tmp/data/\"\r\n",
        "    :param flatten: When True, dataset is reshaped to (num_examples, 3072), otherwise shape is (num_examples, 3, 32, 32)\r\n",
        "    :return: train, valid and test set in numpy arrays\r\n",
        "    \"\"\"\r\n",
        "    transform = torchvision.transforms.ToTensor()\r\n",
        "\r\n",
        "    train_dataset = torchvision.datasets.CIFAR10(root, train=True, transform=transform, download=True)\r\n",
        "    test_dataset = torchvision.datasets.CIFAR10(root, train=False, transform=transform, download=True)\r\n",
        "\r\n",
        "    # randomly split train into train/valid\r\n",
        "    perm = np.random.RandomState(seed=1).permutation(\r\n",
        "        range(len(train_dataset)))  # fix seed to have same split every time.\r\n",
        "    x = [train_dataset[i][0] for i in perm]  # train_dataset.data[perm]\r\n",
        "    y = [one_hot(train_dataset[i][1]) for i in perm]\r\n",
        "    train_x, train_y = x[:40000], y[:40000]\r\n",
        "    valid_x, valid_y = x[40000:], y[40000:]\r\n",
        "    test_x = [test_dataset[i][0] for i in range(len(test_dataset))]\r\n",
        "    test_y = [one_hot(test_dataset[i][1]) for i in range(len(test_dataset))]\r\n",
        "\r\n",
        "    # convert to numpy arrays after stacking\r\n",
        "    train_x = torch.stack(train_x).cpu().numpy()\r\n",
        "    train_y = np.stack(train_y)\r\n",
        "    valid_x = torch.stack(valid_x).cpu().numpy()\r\n",
        "    valid_y = np.stack(valid_y)\r\n",
        "    test_x = torch.stack(test_x).cpu().numpy()\r\n",
        "    test_y = np.stack(test_y)\r\n",
        "\r\n",
        "    if flatten:\r\n",
        "        train_x = train_x.reshape(-1, 32 * 32 * 3)\r\n",
        "        valid_x = valid_x.reshape(-1, 32 * 32 * 3)\r\n",
        "        test_x = test_x.reshape(-1, 32 * 32 * 3)\r\n",
        "\r\n",
        "    # Package everything\r\n",
        "    train_data = train_x, train_y\r\n",
        "    valid_data = valid_x, valid_y\r\n",
        "    test_data = test_x, test_y\r\n",
        "\r\n",
        "    return train_data, valid_data, test_data\r\n",
        "\r\n",
        "\r\n",
        "class NN(object):\r\n",
        "    def __init__(self,\r\n",
        "                 hidden_dims=(1024, 512, 64, 64),\r\n",
        "                 epsilon=1e-6,\r\n",
        "                 lr=0.01,\r\n",
        "                 batch_size=64,\r\n",
        "                 seed=1,\r\n",
        "                 activation=\"relu\",\r\n",
        "                 data=None\r\n",
        "                 ):\r\n",
        "\r\n",
        "        self.hidden_dims = hidden_dims\r\n",
        "        self.n_hidden = len(hidden_dims)\r\n",
        "        self.lr = lr\r\n",
        "        self.batch_size = batch_size\r\n",
        "        self.seed = seed\r\n",
        "        self.activation_str = activation\r\n",
        "        self.epsilon = epsilon\r\n",
        "\r\n",
        "        self.train_logs = {'train_accuracy': [], 'validation_accuracy': [], 'train_loss': [], 'validation_loss': []}\r\n",
        "\r\n",
        "        if data is None:\r\n",
        "            # for testing, do NOT remove or modify\r\n",
        "            self.train, self.valid, self.test = (\r\n",
        "                (np.random.rand(400, 3072), one_hot(np.random.randint(0, 10, 400))),\r\n",
        "                (np.random.rand(400, 3072), one_hot(np.random.randint(0, 10, 400))),\r\n",
        "                (np.random.rand(400, 3072), one_hot(np.random.randint(0, 10, 400)))\r\n",
        "        )\r\n",
        "        else:\r\n",
        "            self.train, self.valid, self.test = data\r\n",
        "\r\n",
        "\r\n",
        "    def initialize_weights(self, dims):        \r\n",
        "        if self.seed is not None:\r\n",
        "            np.random.seed(self.seed)\r\n",
        "\r\n",
        "        self.weights = {}\r\n",
        "        # self.weights is a dictionnary with keys W1, b1, W2, b2, ..., Wm, Bm where m - 1 is the number of hidden layers\r\n",
        "        all_dims = [dims[0]] + list(self.hidden_dims) + [dims[1]]\r\n",
        "        for layer_n in range(1, self.n_hidden + 2):\r\n",
        "            # WRITE CODE HERE\r\n",
        "\r\n",
        "            # self.n_hidden + 2, 2 is due to the input and output layers\r\n",
        "            # dims[0] is the dimension of the flattened input, dims[1] is the dimension of the output\r\n",
        "            # i.e. the number of classes.\r\n",
        "\r\n",
        "            # biases are initialized to zero\r\n",
        "            self.weights[f\"b{layer_n}\"] = np.zeros((1, all_dims[layer_n]))\r\n",
        "            \r\n",
        "            # weights are initialized according to the Glorot method\r\n",
        "            \r\n",
        "            # uniform distribution range: d_l\r\n",
        "            d_l = np.sqrt(6/(all_dims[layer_n-1]+all_dims[layer_n]))\r\n",
        "            self.weights[f\"W{layer_n}\"] = np.random.uniform(-d_l,d_l,(all_dims[layer_n-1], all_dims[layer_n]))\r\n",
        "            \r\n",
        "            # weights are initialized according to the Normal Distribution\r\n",
        "            # self.weights[f\"W{layer_n}\"] = np.random.normal(0,np.sqrt(0.1),(all_dims[layer_n-1], all_dims[layer_n]))\r\n",
        "\r\n",
        "\r\n",
        "    def relu(self, x, grad=False):\r\n",
        "        if grad:\r\n",
        "            # WRITE CODE HERE\r\n",
        "            return 1.0 * (x > 0)\r\n",
        "        # WRITE CODE HERE\r\n",
        "        return x * (x > 0)\r\n",
        "\r\n",
        "\r\n",
        "    def sigmoid(self, x, grad=False):\r\n",
        "        if grad:\r\n",
        "            # WRITE CODE HERE\r\n",
        "            return self.sigmoid(x,grad=False)*(1-self.sigmoid(x,grad=False))\r\n",
        "        # WRITE CODE HERE\r\n",
        "        return (1+np.exp(-x))**(-1)\r\n",
        "\r\n",
        "\r\n",
        "    def tanh(self, x, grad=False):\r\n",
        "        if grad:\r\n",
        "            # WRITE CODE HERE\r\n",
        "            return 1-self.tanh(x,grad=False)**2\r\n",
        "        # WRITE CODE HERE\r\n",
        "        return np.tanh(x)\r\n",
        "\r\n",
        "\r\n",
        "    def activation(self, x, grad=False):\r\n",
        "        if self.activation_str == \"relu\":\r\n",
        "            # WRITE CODE HERE\r\n",
        "            return self.relu(x, grad)\r\n",
        "        elif self.activation_str == \"sigmoid\":\r\n",
        "            # WRITE CODE HERE\r\n",
        "            return self.sigmoid(x, grad)\r\n",
        "        elif self.activation_str == \"tanh\":\r\n",
        "            # WRITE CODE HERE\r\n",
        "            return self.tanh(x, grad)\r\n",
        "        else:\r\n",
        "            raise Exception(\"invalid\")\r\n",
        "\r\n",
        "    def softmax(self, x):\r\n",
        "        # Remember that softmax(x-C) = softmax(x) when C is a constant.\r\n",
        "        # WRITE CODE HERE\r\n",
        "        \r\n",
        "        # batch_size = x.shape[0]\r\n",
        "        # normalizers = np.reshape(np.sum(np.exp(x),axis=1),(batch_size,1))\r\n",
        "        # return np.exp(x)/normalizers\r\n",
        "        x = x-np.max(x,axis=1,keepdims=True)\r\n",
        "        normalizers = np.sum(np.exp(x),axis=len(x.shape)-1, keepdims=True)\r\n",
        "        # print(normalizers.shape)\r\n",
        "        return np.exp(x)/normalizers\r\n",
        "\r\n",
        "    def forward(self, x):\r\n",
        "        cache = {\"Z0\": x}\r\n",
        "        # cache is a dictionnary with keys Z0, A1, Z1, ..., Am, Zm where m - 1 is the number of hidden layers\r\n",
        "        # Ai corresponds to the preactivation at layer i, Zi corresponds to the activation at layer i\r\n",
        "        # WRITE CODE HERE\r\n",
        "        for layer_n in range(1,self.n_hidden+1): # Last layer's activation should be softmax, that's why we differentiate it with the rest\r\n",
        "            cache[f\"A{layer_n}\"] = cache[f\"Z{layer_n-1}\"]@self.weights[f\"W{layer_n}\"]+self.weights[f\"b{layer_n}\"]\r\n",
        "            cache[f\"Z{layer_n}\"] = self.activation(cache[f\"A{layer_n}\"], grad=False)\r\n",
        "        \r\n",
        "        cache[f\"A{layer_n+1}\"] = cache[f\"Z{layer_n}\"]@self.weights[f\"W{layer_n+1}\"]+self.weights[f\"b{layer_n+1}\"]\r\n",
        "        cache[f\"Z{layer_n+1}\"] = self.softmax(cache[f\"A{layer_n+1}\"])\r\n",
        "        return cache\r\n",
        "    \r\n",
        "    def backward(self, cache, labels):\r\n",
        "\r\n",
        "        output = cache[f\"Z{self.n_hidden + 1}\"]\r\n",
        "        grads = {}\r\n",
        "        # grads is a dictionnary with keys dAm, dWm, dbm, dZ(m-1), dA(m-1), ..., dW1, db1\r\n",
        "        # WRITE CODE HERE\r\n",
        "        \r\n",
        "        # Recall that cross entropy and softmax play well together!\r\n",
        "\r\n",
        "        # Gradients in a batch should be averaged along the batch dimension, but\r\n",
        "        # not until all gradients are computed! Until then, the gradient for each\r\n",
        "        # sample should be kept alive, and when backprop is complete, then all grads\r\n",
        "        # can be averaged along the batch dimension to yield a single gradient direction.\r\n",
        "\r\n",
        "        batch_size = output.shape[0]\r\n",
        "\r\n",
        "\r\n",
        "        # Now this gradient would be batch_size x 10, in the end I'll take the mean.\r\n",
        "        # labels are already one-hotted\r\n",
        "        grads[f\"dA{self.n_hidden+1}\"] = -(labels-output)\r\n",
        "        \r\n",
        "        \r\n",
        "        # Gradients for post-activations and pre-activations, weights and biases\r\n",
        "        for layer_n in range(self.n_hidden+1,0,-1):\r\n",
        "        \r\n",
        "            grads[f\"dW{layer_n}\"] = (cache[f\"Z{layer_n-1}\"].T)@(grads[f\"dA{layer_n}\"])/batch_size\r\n",
        "            # grads[f\"dW{layer_n}\"] = (np.expand_dims(grads[f\"dA{layer_n}\"],-1))@(np.expand_dims(cache[f\"Z{layer_n-1}\"],1))\r\n",
        "            # dims = grads[f\"dW{layer_n}\"].shape\r\n",
        "            # grads[f\"dW{layer_n}\"] = np.reshape(grads[f\"dW{layer_n}\"],(dims[0],dims[2],dims[1]))\r\n",
        "            \r\n",
        "            # grads[f\"dW{layer_n}\"] = np.reshape(grads[f\"dW{layer_n}\"],(1,dims[0],dims[1]))\r\n",
        "\r\n",
        "            grads[f\"db{layer_n}\"] = np.mean(grads[f\"dA{layer_n}\"],axis=0, keepdims=True)\r\n",
        "            \r\n",
        "            if (layer_n != 1):\r\n",
        "                grads[f\"dZ{layer_n-1}\"] = ((self.weights[f\"W{layer_n}\"])@(grads[f\"dA{layer_n}\"].T)).T\r\n",
        "                grads[f\"dA{layer_n-1}\"] = grads[f\"dZ{layer_n-1}\"]*self.activation(cache[f\"A{layer_n-1}\"],grad=True)\r\n",
        "                \r\n",
        "        # Now we should take the average along the batch dimension\r\n",
        "        # for param in grads.keys():\r\n",
        "            # grads[param] = np.mean(grads[param], axis=0)\r\n",
        "\r\n",
        "\r\n",
        "        return grads\r\n",
        "\r\n",
        "    def update(self, grads):\r\n",
        "        for layer in range(1, self.n_hidden + 2):\r\n",
        "            # WRITE CODE HERE\r\n",
        "\r\n",
        "            # updating weights W\r\n",
        "            self.weights[f\"W{layer}\"] = self.weights[f\"W{layer}\"] - self.lr*grads[f\"dW{layer}\"]\r\n",
        "\r\n",
        "            # updating biases b\r\n",
        "            self.weights[f\"b{layer}\"] = self.weights[f\"b{layer}\"] - self.lr*grads[f\"db{layer}\"]\r\n",
        "\r\n",
        "    def one_hot(self, y, n_classes=None):\r\n",
        "        n_classes = n_classes or self.n_classes\r\n",
        "        return np.eye(n_classes)[y]\r\n",
        "\r\n",
        "    def loss(self, prediction, labels):\r\n",
        "        prediction[np.where(prediction < self.epsilon)] = self.epsilon\r\n",
        "        prediction[np.where(prediction > 1 - self.epsilon)] = 1 - self.epsilon\r\n",
        "        # WRITE CODE HERE\r\n",
        "        # labels are one-hot\r\n",
        "        sample_losses = [-np.log(prediction[m,np.argmax(labels,axis=1)[m]]) for m in range(len(prediction))]\r\n",
        "        return np.mean(sample_losses)\r\n",
        "\r\n",
        "    def compute_loss_and_accuracy(self, X, y):\r\n",
        "        one_y = y\r\n",
        "        y = np.argmax(y, axis=1)  # Change y to integers\r\n",
        "        cache = self.forward(X)\r\n",
        "        predictions = np.argmax(cache[f\"Z{self.n_hidden + 1}\"], axis=1)\r\n",
        "        accuracy = np.mean(y == predictions)\r\n",
        "        loss = self.loss(cache[f\"Z{self.n_hidden + 1}\"], one_y)\r\n",
        "        return loss, accuracy, predictions\r\n",
        "\r\n",
        "    def train_loop(self, n_epochs):\r\n",
        "        X_train, y_train = self.train\r\n",
        "        y_onehot = y_train\r\n",
        "        dims = [X_train.shape[1], y_onehot.shape[1]]\r\n",
        "        self.initialize_weights(dims)\r\n",
        "\r\n",
        "        n_batches = int(np.ceil(X_train.shape[0] / self.batch_size))\r\n",
        "\r\n",
        "        for epoch in range(n_epochs):\r\n",
        "            for batch in range(n_batches):\r\n",
        "                minibatchX = X_train[self.batch_size * batch:self.batch_size * (batch + 1), :]\r\n",
        "                minibatchY = y_onehot[self.batch_size * batch:self.batch_size * (batch + 1), :]\r\n",
        "                # WRITE CODE HERE\r\n",
        "                cache = self.forward(minibatchX)\r\n",
        "                gradients = self.backward(cache,minibatchY)\r\n",
        "                self.update(gradients)\r\n",
        "                \r\n",
        "                if(np.mod(batch,100)==0):\r\n",
        "                    train_loss, train_accuracy, _ = self.compute_loss_and_accuracy(minibatchX, minibatchY)\r\n",
        "                    print(f\"epoch {epoch}, batch id:{batch}, train_loss={train_loss}, train_accuracy={train_accuracy}\")\r\n",
        "\r\n",
        "\r\n",
        "            X_train, y_train = self.train\r\n",
        "            train_loss, train_accuracy, _ = self.compute_loss_and_accuracy(X_train, y_train)\r\n",
        "            X_valid, y_valid = self.valid\r\n",
        "            valid_loss, valid_accuracy, _ = self.compute_loss_and_accuracy(X_valid, y_valid)\r\n",
        "\r\n",
        "            self.train_logs['train_accuracy'].append(train_accuracy)\r\n",
        "            self.train_logs['validation_accuracy'].append(valid_accuracy)\r\n",
        "            self.train_logs['train_loss'].append(train_loss)\r\n",
        "            self.train_logs['validation_loss'].append(valid_loss)\r\n",
        "\r\n",
        "        return self.train_logs\r\n",
        "\r\n",
        "    def evaluate(self):\r\n",
        "        X_test, y_test = self.test\r\n",
        "        test_loss, test_accuracy, _ = self.compute_loss_and_accuracy(X_test, y_test)\r\n",
        "        return test_loss, test_accuracy\r\n"
      ],
      "execution_count": null,
      "outputs": []
    },
    {
      "cell_type": "code",
      "metadata": {
        "colab": {
          "base_uri": "https://localhost:8080/"
        },
        "id": "ca7Df2foG5_r",
        "outputId": "665ea794-8b67-4c71-fec9-a335601030d8"
      },
      "source": [
        "data = load_cifar10('/tmp/data', flatten=True)  # can use flatten=False to get the image shape.\r\n",
        "train_data, valid_data, test_data = data\r\n",
        "image, label = train_data[0][0], train_data[1][0]\r\n",
        "image.shape"
      ],
      "execution_count": null,
      "outputs": [
        {
          "output_type": "stream",
          "text": [
            "Files already downloaded and verified\n",
            "Files already downloaded and verified\n"
          ],
          "name": "stdout"
        },
        {
          "output_type": "execute_result",
          "data": {
            "text/plain": [
              "(3072,)"
            ]
          },
          "metadata": {
            "tags": []
          },
          "execution_count": 7
        }
      ]
    },
    {
      "cell_type": "code",
      "metadata": {
        "pycharm": {
          "name": "#%%\n"
        },
        "id": "x3cKQ4qny4Oq"
      },
      "source": [
        "import time\n",
        "nn = NN(data=data)\n",
        "start = time.time()\n",
        "logs = nn.train_loop(1)\n",
        "print(time.time()-start)\n",
        "print(nn.evaluate())"
      ],
      "execution_count": null,
      "outputs": []
    },
    {
      "cell_type": "code",
      "metadata": {
        "colab": {
          "base_uri": "https://localhost:8080/"
        },
        "id": "QM9lTZIAyJq6",
        "outputId": "8addab33-c6c5-4e22-e9ac-c5f0dda8c83b"
      },
      "source": [
        "print(nn.weights.keys())"
      ],
      "execution_count": null,
      "outputs": [
        {
          "output_type": "stream",
          "text": [
            "dict_keys(['b1', 'W1', 'b2', 'W2', 'b3', 'W3', 'b4', 'W4', 'b5', 'W5'])\n"
          ],
          "name": "stdout"
        }
      ]
    },
    {
      "cell_type": "code",
      "metadata": {
        "id": "bAYD9dWMFMiR"
      },
      "source": [
        "last_layer = 5\r\n",
        "\r\n",
        "N = np.reshape(np.array([10**j for j in range(1,6)]),(1,5))\r\n",
        "k = np.reshape(np.arange(1,6),(5,1))\r\n",
        "N = N*k\r\n",
        "p = 100\r\n",
        "# Ns \r\n",
        "num_of_Ns = 15\r\n",
        "rows = np.random.choice([0,1,2,3,4],num_of_Ns)\r\n",
        "cols = np.random.choice([0,1,2,3,4],num_of_Ns)\r\n",
        "\r\n",
        "Ns = [N[rows[i],cols[i]] for i in range(len(rows))]\r\n",
        "Ns = np.sort(Ns)\r\n",
        "\r\n",
        "sample_id = np.random.randint(0,train_data[0].shape[0])\r\n",
        "x_ = train_data[0][sample_id]\r\n",
        "y_onehot = train_data[1][sample_id]\r\n",
        "y_ = np.argmax(y_onehot)\r\n",
        "\r\n",
        "max_diff = []\r\n",
        "\r\n",
        "for n in Ns:\r\n",
        "    epsilon = 1/n\r\n",
        "    nabla_N = []\r\n",
        "    exact_grads = []\r\n",
        "    for k in range(1,p+1):\r\n",
        "        grad_approx = (loss_single_sample(nn,x_,y_,epsilon,k)-loss_single_sample(nn,x_,y_,-epsilon,k))/(2*epsilon)\r\n",
        "        nabla_N.append(grad_approx)\r\n",
        "\r\n",
        "        grad_exact = exact_grad(nn,nn.forward(x_),y_onehot,k)\r\n",
        "        exact_grads.append(grad_exact)\r\n",
        "    \r\n",
        "    difference = np.max(np.abs(np.array(nabla_N)-np.array(exact_grads)))\r\n",
        "    # print(difference)\r\n",
        "    max_diff.append(difference)\r\n",
        "\r\n",
        "\r\n",
        "# print(nabla_N)\r\n",
        "# print(len(nabla_N))\r\n",
        "# print(exact_grads)\r\n",
        "# print(len(exact_grads))"
      ],
      "execution_count": null,
      "outputs": []
    },
    {
      "cell_type": "code",
      "metadata": {
        "id": "OvGOQEyWS2m8"
      },
      "source": [
        "import pickle\r\n",
        "with open('max_diffs.pickle', 'rb') as f:\r\n",
        "    dict = pickle.load(f)\r\n",
        "\r\n",
        "Ns = dict['Ns']\r\n",
        "max_diff = dict['diff']"
      ],
      "execution_count": null,
      "outputs": []
    },
    {
      "cell_type": "code",
      "metadata": {
        "colab": {
          "base_uri": "https://localhost:8080/",
          "height": 555
        },
        "id": "G-AqUfzQWKOP",
        "outputId": "641b854d-8c59-4414-dd3e-8a251fa4636e"
      },
      "source": [
        "import matplotlib.pyplot as plt\r\n",
        "from matplotlib.pyplot import figure\r\n",
        "figure(num=None, figsize=(10, 8), dpi=80, facecolor='w', edgecolor='k')\r\n",
        "\r\n",
        "plt.loglog(Ns, max_diff, '*', linestyle='dashed')\r\n",
        "\r\n",
        "plt.xlabel('N')\r\n",
        "plt.ylabel('maximum difference')\r\n",
        "\r\n",
        "plt.show()"
      ],
      "execution_count": null,
      "outputs": [
        {
          "output_type": "display_data",
          "data": {
            "image/png": "[encoded data removed]",
            "text/plain": [
              "<Figure size 800x640 with 1 Axes>"
            ]
          },
          "metadata": {
            "tags": []
          }
        }
      ]
    },
    {
      "cell_type": "code",
      "metadata": {
        "colab": {
          "base_uri": "https://localhost:8080/"
        },
        "id": "mGwEij_TKWHP",
        "outputId": "bd06607d-81b6-4af6-fa4e-1f74be3a9b35"
      },
      "source": [
        "nn.weights[f\"W{last_layer}\"].shape"
      ],
      "execution_count": null,
      "outputs": [
        {
          "output_type": "execute_result",
          "data": {
            "text/plain": [
              "(64, 10)"
            ]
          },
          "metadata": {
            "tags": []
          },
          "execution_count": 136
        }
      ]
    },
    {
      "cell_type": "code",
      "metadata": {
        "id": "EOG0cxklbCyV"
      },
      "source": [
        "def loss_single_sample(nn,x,y,eps,k):\r\n",
        "    dims = nn.weights[f\"W{last_layer}\"].shape\r\n",
        "    row = np.int(np.floor(k/dims[1]))\r\n",
        "    col = np.mod(k,dims[1])-1\r\n",
        "    nn.weights[f\"W{last_layer}\"][row,col] = nn.weights[f\"W{last_layer}\"][row,col] + eps\r\n",
        "    cache = nn.forward(x)\r\n",
        "    nn.weights[f\"W{last_layer}\"][row,col] = nn.weights[f\"W{last_layer}\"][row,col] - eps\r\n",
        "    pred = cache[f\"Z{last_layer}\"][0]\r\n",
        "    return -np.log(pred[y])\r\n",
        "\r\n",
        "def exact_grad(nn,cache,y,k):\r\n",
        "\r\n",
        "    dims = nn.weights[f\"W{last_layer}\"].shape\r\n",
        "    row = np.int(np.floor(k/dims[1]))\r\n",
        "    col = np.mod(k,dims[1])-1\r\n",
        "\r\n",
        "    output = cache[f\"Z{last_layer}\"]\r\n",
        "    grads = {}\r\n",
        "\r\n",
        "    # labels are already one-hotted\r\n",
        "    grads[f\"dA{last_layer}\"] = -(y-output)\r\n",
        "    grads[f\"dW{last_layer}\"] = (cache[f\"Z{last_layer-1}\"].T)@(grads[f\"dA{last_layer}\"])\r\n",
        "    return grads[f\"dW{last_layer}\"][row,col]"
      ],
      "execution_count": null,
      "outputs": []
    }
  ]
}